{
 "cells": [
  {
   "cell_type": "markdown",
   "id": "6yDxo9u0d9Na",
   "metadata": {
    "id": "6yDxo9u0d9Na"
   },
   "source": [
    "#E-news Express\n"
   ]
  },
  {
   "cell_type": "markdown",
   "id": "SrLd-ICEmPSD",
   "metadata": {
    "id": "SrLd-ICEmPSD"
   },
   "source": [
    "## Define Problem Statement and Objectives"
   ]
  },
  {
   "cell_type": "markdown",
   "id": "9Vt1PLLqmXNn",
   "metadata": {
    "id": "9Vt1PLLqmXNn"
   },
   "source": [
    "**Business Context**\n",
    "\n",
    "The advent of e-news, or electronic news, portals has offered us a great opportunity to quickly get updates on the day-to-day events occurring globally. The information on these portals is retrieved electronically from online databases, processed using a variety of software, and then transmitted to the users. There are multiple advantages of transmitting new electronically, like faster access to the content and the ability to utilize different technologies such as audio, graphics, video, and other interactive elements that are either not being used or aren’t common yet in traditional newspapers.\n",
    "\n",
    "E-news Express, an online news portal, aims to expand its business by acquiring new subscribers. With every visitor to the website taking certain actions based on their interest, the company plans to analyze these actions to understand user interests and determine how to drive better engagement. The executives at E-news Express are of the opinion that there has been a decline in new monthly subscribers compared to the past year because the current webpage is not designed well enough in terms of the outline & recommended content to keep customers engaged long enough to make a decision to subscribe.\n",
    "\n",
    "[Companies often analyze user responses to two variants of a product to decide which of the two variants is more effective. This experimental technique, known as A/B testing, is used to determine whether a new feature attracts users based on a chosen metric.]\n",
    "\n",
    "**Objective**\n",
    "\n",
    "The design team of the company has researched and created a new landing page that has a new outline & more relevant content shown compared to the old page. In order to test the effectiveness of the new landing page in gathering new subscribers, the Data Science team conducted an experiment by randomly selecting 100 users and dividing them equally into two groups. The existing landing page was served to the first group (control group) and the new landing page to the second group (treatment group). Data regarding the interaction of users in both groups with the two versions of the landing page was collected. Being a data scientist in E-news Express, you have been asked to explore the data and perform a statistical analysis (at a significance level of 5%) to determine the effectiveness of the new landing page in gathering new subscribers for the news portal by answering the following questions:\n",
    "\n",
    "\n",
    "1.    Do the users spend more time on the new landing page than on the existing \n",
    "landing page?\n",
    "2.    Is the conversion rate (the proportion of users who visit the landing page and get converted) for the new page greater than the conversion rate for the old page?\n",
    "3.    Does the converted status depend on the preferred language?\n",
    "4.    Is the time spent on the new page the same for the different language users?\n",
    " \n",
    "\n",
    "**Data Dictionary**\n",
    "\n",
    "The data contains information regarding the interaction of users in both groups with the two versions of the landing page.\n",
    "\n",
    "user_id - Unique user ID of the person visiting the website\n",
    "\n",
    "group - Whether the user belongs to the first group (control) or the second group (treatment)\n",
    "\n",
    "landing_page - Whether the landing page is new or old\n",
    "\n",
    "time_spent_on_the_page - Time (in minutes) spent by the user on the landing page\n",
    "converted - Whether the user gets converted to a subscriber of the news portal or not\n",
    "\n",
    "language_preferred - Language chosen by the user to view the landing page"
   ]
  },
  {
   "cell_type": "markdown",
   "id": "a6a3d218",
   "metadata": {
    "id": "a6a3d218"
   },
   "source": [
    "## Import all the necessary libraries"
   ]
  },
  {
   "cell_type": "code",
   "execution_count": null,
   "id": "658c5dec",
   "metadata": {
    "id": "658c5dec"
   },
   "outputs": [],
   "source": [
    "import numpy as np\n",
    "import pandas as pd\n",
    "from matplotlib import pyplot as plt\n",
    "import seaborn as sns"
   ]
  },
  {
   "cell_type": "markdown",
   "id": "6970dd99",
   "metadata": {
    "id": "6970dd99"
   },
   "source": [
    "## Reading the Data into a DataFrame"
   ]
  },
  {
   "cell_type": "code",
   "execution_count": null,
   "id": "d3b95640",
   "metadata": {
    "colab": {
     "base_uri": "https://localhost:8080/"
    },
    "id": "d3b95640",
    "outputId": "746b11f2-4f83-49d2-e5e5-a3fad4fe116c"
   },
   "outputs": [
    {
     "name": "stdout",
     "output_type": "stream",
     "text": [
      "Drive already mounted at /gdrive; to attempt to forcibly remount, call drive.mount(\"/gdrive\", force_remount=True).\n"
     ]
    }
   ],
   "source": [
    "from google.colab import drive\n",
    "drive.mount(\"/gdrive\")"
   ]
  },
  {
   "cell_type": "markdown",
   "id": "9d75cfa2",
   "metadata": {
    "id": "9d75cfa2"
   },
   "source": [
    "## Explore the dataset and extract insights using Exploratory Data Analysis"
   ]
  },
  {
   "cell_type": "markdown",
   "id": "27201534",
   "metadata": {
    "id": "27201534"
   },
   "source": [
    "- Data Overview\n",
    "  - Viewing the first and last few rows of the dataset\n",
    "  - Checking the shape of the dataset\n",
    "  - Getting the statistical summary for the variables\n",
    "- Check for missing values\n",
    "- Check for duplicates"
   ]
  },
  {
   "cell_type": "code",
   "execution_count": null,
   "id": "e1ad11d4",
   "metadata": {
    "id": "e1ad11d4"
   },
   "outputs": [],
   "source": [
    "# Let's import the dataframe\n",
    "df = pd.read_csv(\"/gdrive/My Drive/MGL/EnewsExpress/abtest.csv\")"
   ]
  },
  {
   "cell_type": "code",
   "execution_count": null,
   "id": "4kQyA7A_NnzY",
   "metadata": {
    "colab": {
     "base_uri": "https://localhost:8080/",
     "height": 206
    },
    "id": "4kQyA7A_NnzY",
    "outputId": "97c8fa11-7f66-4dee-ae4e-f4061ef66f7f"
   },
   "outputs": [
    {
     "data": {
      "text/html": [
       "\n",
       "  <div id=\"df-17be6290-5281-490a-93c0-867216c77224\">\n",
       "    <div class=\"colab-df-container\">\n",
       "      <div>\n",
       "<style scoped>\n",
       "    .dataframe tbody tr th:only-of-type {\n",
       "        vertical-align: middle;\n",
       "    }\n",
       "\n",
       "    .dataframe tbody tr th {\n",
       "        vertical-align: top;\n",
       "    }\n",
       "\n",
       "    .dataframe thead th {\n",
       "        text-align: right;\n",
       "    }\n",
       "</style>\n",
       "<table border=\"1\" class=\"dataframe\">\n",
       "  <thead>\n",
       "    <tr style=\"text-align: right;\">\n",
       "      <th></th>\n",
       "      <th>user_id</th>\n",
       "      <th>group</th>\n",
       "      <th>landing_page</th>\n",
       "      <th>time_spent_on_the_page</th>\n",
       "      <th>converted</th>\n",
       "      <th>language_preferred</th>\n",
       "    </tr>\n",
       "  </thead>\n",
       "  <tbody>\n",
       "    <tr>\n",
       "      <th>0</th>\n",
       "      <td>546592</td>\n",
       "      <td>control</td>\n",
       "      <td>old</td>\n",
       "      <td>3.48</td>\n",
       "      <td>no</td>\n",
       "      <td>Spanish</td>\n",
       "    </tr>\n",
       "    <tr>\n",
       "      <th>1</th>\n",
       "      <td>546468</td>\n",
       "      <td>treatment</td>\n",
       "      <td>new</td>\n",
       "      <td>7.13</td>\n",
       "      <td>yes</td>\n",
       "      <td>English</td>\n",
       "    </tr>\n",
       "    <tr>\n",
       "      <th>2</th>\n",
       "      <td>546462</td>\n",
       "      <td>treatment</td>\n",
       "      <td>new</td>\n",
       "      <td>4.40</td>\n",
       "      <td>no</td>\n",
       "      <td>Spanish</td>\n",
       "    </tr>\n",
       "    <tr>\n",
       "      <th>3</th>\n",
       "      <td>546567</td>\n",
       "      <td>control</td>\n",
       "      <td>old</td>\n",
       "      <td>3.02</td>\n",
       "      <td>no</td>\n",
       "      <td>French</td>\n",
       "    </tr>\n",
       "    <tr>\n",
       "      <th>4</th>\n",
       "      <td>546459</td>\n",
       "      <td>treatment</td>\n",
       "      <td>new</td>\n",
       "      <td>4.75</td>\n",
       "      <td>yes</td>\n",
       "      <td>Spanish</td>\n",
       "    </tr>\n",
       "  </tbody>\n",
       "</table>\n",
       "</div>\n",
       "      <button class=\"colab-df-convert\" onclick=\"convertToInteractive('df-17be6290-5281-490a-93c0-867216c77224')\"\n",
       "              title=\"Convert this dataframe to an interactive table.\"\n",
       "              style=\"display:none;\">\n",
       "        \n",
       "  <svg xmlns=\"http://www.w3.org/2000/svg\" height=\"24px\"viewBox=\"0 0 24 24\"\n",
       "       width=\"24px\">\n",
       "    <path d=\"M0 0h24v24H0V0z\" fill=\"none\"/>\n",
       "    <path d=\"M18.56 5.44l.94 2.06.94-2.06 2.06-.94-2.06-.94-.94-2.06-.94 2.06-2.06.94zm-11 1L8.5 8.5l.94-2.06 2.06-.94-2.06-.94L8.5 2.5l-.94 2.06-2.06.94zm10 10l.94 2.06.94-2.06 2.06-.94-2.06-.94-.94-2.06-.94 2.06-2.06.94z\"/><path d=\"M17.41 7.96l-1.37-1.37c-.4-.4-.92-.59-1.43-.59-.52 0-1.04.2-1.43.59L10.3 9.45l-7.72 7.72c-.78.78-.78 2.05 0 2.83L4 21.41c.39.39.9.59 1.41.59.51 0 1.02-.2 1.41-.59l7.78-7.78 2.81-2.81c.8-.78.8-2.07 0-2.86zM5.41 20L4 18.59l7.72-7.72 1.47 1.35L5.41 20z\"/>\n",
       "  </svg>\n",
       "      </button>\n",
       "      \n",
       "  <style>\n",
       "    .colab-df-container {\n",
       "      display:flex;\n",
       "      flex-wrap:wrap;\n",
       "      gap: 12px;\n",
       "    }\n",
       "\n",
       "    .colab-df-convert {\n",
       "      background-color: #E8F0FE;\n",
       "      border: none;\n",
       "      border-radius: 50%;\n",
       "      cursor: pointer;\n",
       "      display: none;\n",
       "      fill: #1967D2;\n",
       "      height: 32px;\n",
       "      padding: 0 0 0 0;\n",
       "      width: 32px;\n",
       "    }\n",
       "\n",
       "    .colab-df-convert:hover {\n",
       "      background-color: #E2EBFA;\n",
       "      box-shadow: 0px 1px 2px rgba(60, 64, 67, 0.3), 0px 1px 3px 1px rgba(60, 64, 67, 0.15);\n",
       "      fill: #174EA6;\n",
       "    }\n",
       "\n",
       "    [theme=dark] .colab-df-convert {\n",
       "      background-color: #3B4455;\n",
       "      fill: #D2E3FC;\n",
       "    }\n",
       "\n",
       "    [theme=dark] .colab-df-convert:hover {\n",
       "      background-color: #434B5C;\n",
       "      box-shadow: 0px 1px 3px 1px rgba(0, 0, 0, 0.15);\n",
       "      filter: drop-shadow(0px 1px 2px rgba(0, 0, 0, 0.3));\n",
       "      fill: #FFFFFF;\n",
       "    }\n",
       "  </style>\n",
       "\n",
       "      <script>\n",
       "        const buttonEl =\n",
       "          document.querySelector('#df-17be6290-5281-490a-93c0-867216c77224 button.colab-df-convert');\n",
       "        buttonEl.style.display =\n",
       "          google.colab.kernel.accessAllowed ? 'block' : 'none';\n",
       "\n",
       "        async function convertToInteractive(key) {\n",
       "          const element = document.querySelector('#df-17be6290-5281-490a-93c0-867216c77224');\n",
       "          const dataTable =\n",
       "            await google.colab.kernel.invokeFunction('convertToInteractive',\n",
       "                                                     [key], {});\n",
       "          if (!dataTable) return;\n",
       "\n",
       "          const docLinkHtml = 'Like what you see? Visit the ' +\n",
       "            '<a target=\"_blank\" href=https://colab.research.google.com/notebooks/data_table.ipynb>data table notebook</a>'\n",
       "            + ' to learn more about interactive tables.';\n",
       "          element.innerHTML = '';\n",
       "          dataTable['output_type'] = 'display_data';\n",
       "          await google.colab.output.renderOutput(dataTable, element);\n",
       "          const docLink = document.createElement('div');\n",
       "          docLink.innerHTML = docLinkHtml;\n",
       "          element.appendChild(docLink);\n",
       "        }\n",
       "      </script>\n",
       "    </div>\n",
       "  </div>\n",
       "  "
      ],
      "text/plain": [
       "   user_id      group landing_page  time_spent_on_the_page converted  \\\n",
       "0   546592    control          old                    3.48        no   \n",
       "1   546468  treatment          new                    7.13       yes   \n",
       "2   546462  treatment          new                    4.40        no   \n",
       "3   546567    control          old                    3.02        no   \n",
       "4   546459  treatment          new                    4.75       yes   \n",
       "\n",
       "  language_preferred  \n",
       "0            Spanish  \n",
       "1            English  \n",
       "2            Spanish  \n",
       "3             French  \n",
       "4            Spanish  "
      ]
     },
     "execution_count": 81,
     "metadata": {},
     "output_type": "execute_result"
    }
   ],
   "source": [
    "# First, let's perform some basic EDA to better understand our dataset\n",
    "df.head()"
   ]
  },
  {
   "cell_type": "code",
   "execution_count": null,
   "id": "HnOXJh00OIdh",
   "metadata": {
    "colab": {
     "base_uri": "https://localhost:8080/",
     "height": 206
    },
    "id": "HnOXJh00OIdh",
    "outputId": "397ae5cf-da24-45ad-a200-afc42205ab60"
   },
   "outputs": [
    {
     "data": {
      "text/html": [
       "\n",
       "  <div id=\"df-05a9bcd7-943c-47c5-b2e1-8c4913a1947b\">\n",
       "    <div class=\"colab-df-container\">\n",
       "      <div>\n",
       "<style scoped>\n",
       "    .dataframe tbody tr th:only-of-type {\n",
       "        vertical-align: middle;\n",
       "    }\n",
       "\n",
       "    .dataframe tbody tr th {\n",
       "        vertical-align: top;\n",
       "    }\n",
       "\n",
       "    .dataframe thead th {\n",
       "        text-align: right;\n",
       "    }\n",
       "</style>\n",
       "<table border=\"1\" class=\"dataframe\">\n",
       "  <thead>\n",
       "    <tr style=\"text-align: right;\">\n",
       "      <th></th>\n",
       "      <th>user_id</th>\n",
       "      <th>group</th>\n",
       "      <th>landing_page</th>\n",
       "      <th>time_spent_on_the_page</th>\n",
       "      <th>converted</th>\n",
       "      <th>language_preferred</th>\n",
       "    </tr>\n",
       "  </thead>\n",
       "  <tbody>\n",
       "    <tr>\n",
       "      <th>95</th>\n",
       "      <td>546446</td>\n",
       "      <td>treatment</td>\n",
       "      <td>new</td>\n",
       "      <td>5.15</td>\n",
       "      <td>no</td>\n",
       "      <td>Spanish</td>\n",
       "    </tr>\n",
       "    <tr>\n",
       "      <th>96</th>\n",
       "      <td>546544</td>\n",
       "      <td>control</td>\n",
       "      <td>old</td>\n",
       "      <td>6.52</td>\n",
       "      <td>yes</td>\n",
       "      <td>English</td>\n",
       "    </tr>\n",
       "    <tr>\n",
       "      <th>97</th>\n",
       "      <td>546472</td>\n",
       "      <td>treatment</td>\n",
       "      <td>new</td>\n",
       "      <td>7.07</td>\n",
       "      <td>yes</td>\n",
       "      <td>Spanish</td>\n",
       "    </tr>\n",
       "    <tr>\n",
       "      <th>98</th>\n",
       "      <td>546481</td>\n",
       "      <td>treatment</td>\n",
       "      <td>new</td>\n",
       "      <td>6.20</td>\n",
       "      <td>yes</td>\n",
       "      <td>Spanish</td>\n",
       "    </tr>\n",
       "    <tr>\n",
       "      <th>99</th>\n",
       "      <td>546483</td>\n",
       "      <td>treatment</td>\n",
       "      <td>new</td>\n",
       "      <td>5.86</td>\n",
       "      <td>yes</td>\n",
       "      <td>English</td>\n",
       "    </tr>\n",
       "  </tbody>\n",
       "</table>\n",
       "</div>\n",
       "      <button class=\"colab-df-convert\" onclick=\"convertToInteractive('df-05a9bcd7-943c-47c5-b2e1-8c4913a1947b')\"\n",
       "              title=\"Convert this dataframe to an interactive table.\"\n",
       "              style=\"display:none;\">\n",
       "        \n",
       "  <svg xmlns=\"http://www.w3.org/2000/svg\" height=\"24px\"viewBox=\"0 0 24 24\"\n",
       "       width=\"24px\">\n",
       "    <path d=\"M0 0h24v24H0V0z\" fill=\"none\"/>\n",
       "    <path d=\"M18.56 5.44l.94 2.06.94-2.06 2.06-.94-2.06-.94-.94-2.06-.94 2.06-2.06.94zm-11 1L8.5 8.5l.94-2.06 2.06-.94-2.06-.94L8.5 2.5l-.94 2.06-2.06.94zm10 10l.94 2.06.94-2.06 2.06-.94-2.06-.94-.94-2.06-.94 2.06-2.06.94z\"/><path d=\"M17.41 7.96l-1.37-1.37c-.4-.4-.92-.59-1.43-.59-.52 0-1.04.2-1.43.59L10.3 9.45l-7.72 7.72c-.78.78-.78 2.05 0 2.83L4 21.41c.39.39.9.59 1.41.59.51 0 1.02-.2 1.41-.59l7.78-7.78 2.81-2.81c.8-.78.8-2.07 0-2.86zM5.41 20L4 18.59l7.72-7.72 1.47 1.35L5.41 20z\"/>\n",
       "  </svg>\n",
       "      </button>\n",
       "      \n",
       "  <style>\n",
       "    .colab-df-container {\n",
       "      display:flex;\n",
       "      flex-wrap:wrap;\n",
       "      gap: 12px;\n",
       "    }\n",
       "\n",
       "    .colab-df-convert {\n",
       "      background-color: #E8F0FE;\n",
       "      border: none;\n",
       "      border-radius: 50%;\n",
       "      cursor: pointer;\n",
       "      display: none;\n",
       "      fill: #1967D2;\n",
       "      height: 32px;\n",
       "      padding: 0 0 0 0;\n",
       "      width: 32px;\n",
       "    }\n",
       "\n",
       "    .colab-df-convert:hover {\n",
       "      background-color: #E2EBFA;\n",
       "      box-shadow: 0px 1px 2px rgba(60, 64, 67, 0.3), 0px 1px 3px 1px rgba(60, 64, 67, 0.15);\n",
       "      fill: #174EA6;\n",
       "    }\n",
       "\n",
       "    [theme=dark] .colab-df-convert {\n",
       "      background-color: #3B4455;\n",
       "      fill: #D2E3FC;\n",
       "    }\n",
       "\n",
       "    [theme=dark] .colab-df-convert:hover {\n",
       "      background-color: #434B5C;\n",
       "      box-shadow: 0px 1px 3px 1px rgba(0, 0, 0, 0.15);\n",
       "      filter: drop-shadow(0px 1px 2px rgba(0, 0, 0, 0.3));\n",
       "      fill: #FFFFFF;\n",
       "    }\n",
       "  </style>\n",
       "\n",
       "      <script>\n",
       "        const buttonEl =\n",
       "          document.querySelector('#df-05a9bcd7-943c-47c5-b2e1-8c4913a1947b button.colab-df-convert');\n",
       "        buttonEl.style.display =\n",
       "          google.colab.kernel.accessAllowed ? 'block' : 'none';\n",
       "\n",
       "        async function convertToInteractive(key) {\n",
       "          const element = document.querySelector('#df-05a9bcd7-943c-47c5-b2e1-8c4913a1947b');\n",
       "          const dataTable =\n",
       "            await google.colab.kernel.invokeFunction('convertToInteractive',\n",
       "                                                     [key], {});\n",
       "          if (!dataTable) return;\n",
       "\n",
       "          const docLinkHtml = 'Like what you see? Visit the ' +\n",
       "            '<a target=\"_blank\" href=https://colab.research.google.com/notebooks/data_table.ipynb>data table notebook</a>'\n",
       "            + ' to learn more about interactive tables.';\n",
       "          element.innerHTML = '';\n",
       "          dataTable['output_type'] = 'display_data';\n",
       "          await google.colab.output.renderOutput(dataTable, element);\n",
       "          const docLink = document.createElement('div');\n",
       "          docLink.innerHTML = docLinkHtml;\n",
       "          element.appendChild(docLink);\n",
       "        }\n",
       "      </script>\n",
       "    </div>\n",
       "  </div>\n",
       "  "
      ],
      "text/plain": [
       "    user_id      group landing_page  time_spent_on_the_page converted  \\\n",
       "95   546446  treatment          new                    5.15        no   \n",
       "96   546544    control          old                    6.52       yes   \n",
       "97   546472  treatment          new                    7.07       yes   \n",
       "98   546481  treatment          new                    6.20       yes   \n",
       "99   546483  treatment          new                    5.86       yes   \n",
       "\n",
       "   language_preferred  \n",
       "95            Spanish  \n",
       "96            English  \n",
       "97            Spanish  \n",
       "98            Spanish  \n",
       "99            English  "
      ]
     },
     "execution_count": 82,
     "metadata": {},
     "output_type": "execute_result"
    }
   ],
   "source": [
    "df.tail()"
   ]
  },
  {
   "cell_type": "code",
   "execution_count": null,
   "id": "-YgoDsWOOLQj",
   "metadata": {
    "colab": {
     "base_uri": "https://localhost:8080/"
    },
    "id": "-YgoDsWOOLQj",
    "outputId": "d63f545c-4f81-4860-9454-3b971af44dcf"
   },
   "outputs": [
    {
     "data": {
      "text/plain": [
       "(100, 6)"
      ]
     },
     "execution_count": 83,
     "metadata": {},
     "output_type": "execute_result"
    }
   ],
   "source": [
    "df.shape"
   ]
  },
  {
   "cell_type": "markdown",
   "id": "NuOADGJJOW_n",
   "metadata": {
    "id": "NuOADGJJOW_n"
   },
   "source": [
    "Our dataframe has 100 rows and 6 columns"
   ]
  },
  {
   "cell_type": "code",
   "execution_count": null,
   "id": "RTfKfnQ8OfRl",
   "metadata": {
    "colab": {
     "base_uri": "https://localhost:8080/"
    },
    "id": "RTfKfnQ8OfRl",
    "outputId": "7c68cd86-6ba3-4d16-c321-c528e863770e"
   },
   "outputs": [
    {
     "name": "stdout",
     "output_type": "stream",
     "text": [
      "<class 'pandas.core.frame.DataFrame'>\n",
      "RangeIndex: 100 entries, 0 to 99\n",
      "Data columns (total 6 columns):\n",
      " #   Column                  Non-Null Count  Dtype  \n",
      "---  ------                  --------------  -----  \n",
      " 0   user_id                 100 non-null    int64  \n",
      " 1   group                   100 non-null    object \n",
      " 2   landing_page            100 non-null    object \n",
      " 3   time_spent_on_the_page  100 non-null    float64\n",
      " 4   converted               100 non-null    object \n",
      " 5   language_preferred      100 non-null    object \n",
      "dtypes: float64(1), int64(1), object(4)\n",
      "memory usage: 4.8+ KB\n"
     ]
    }
   ],
   "source": [
    "df.info()"
   ]
  },
  {
   "cell_type": "code",
   "execution_count": null,
   "id": "bG9OdqsKYDgc",
   "metadata": {
    "colab": {
     "base_uri": "https://localhost:8080/"
    },
    "id": "bG9OdqsKYDgc",
    "outputId": "b9d2f33d-7306-4c0a-ee02-20505f6f6844"
   },
   "outputs": [
    {
     "name": "stdout",
     "output_type": "stream",
     "text": [
      "user_id                   0\n",
      "group                     0\n",
      "landing_page              0\n",
      "time_spent_on_the_page    0\n",
      "converted                 0\n",
      "language_preferred        0\n",
      "dtype: int64\n"
     ]
    }
   ],
   "source": [
    "# Let's check for missing values\n",
    "print(df.isna().sum())"
   ]
  },
  {
   "cell_type": "code",
   "execution_count": null,
   "id": "1b--mLVjZvYy",
   "metadata": {
    "colab": {
     "base_uri": "https://localhost:8080/"
    },
    "id": "1b--mLVjZvYy",
    "outputId": "ba0ce898-c023-47d3-b4b7-04b871414ef1"
   },
   "outputs": [
    {
     "name": "stdout",
     "output_type": "stream",
     "text": [
      "0\n"
     ]
    }
   ],
   "source": [
    "# Is there any duplicate data?\n",
    "print(df.duplicated().sum())"
   ]
  },
  {
   "cell_type": "markdown",
   "id": "irT4CKJwOrdF",
   "metadata": {
    "id": "irT4CKJwOrdF"
   },
   "source": [
    "## Insights\n",
    "*    Our dataframe has one float, one integer, and 4 object columns\n",
    "*    We have no missing data in our dataframe\n",
    "*    We have no duplicate data\n",
    "\n",
    "\n"
   ]
  },
  {
   "cell_type": "code",
   "execution_count": null,
   "id": "QViQEbXIPKau",
   "metadata": {
    "colab": {
     "base_uri": "https://localhost:8080/",
     "height": 300
    },
    "id": "QViQEbXIPKau",
    "outputId": "e9d9a745-b121-4f43-93b2-3c7bf680d7a5"
   },
   "outputs": [
    {
     "data": {
      "text/html": [
       "\n",
       "  <div id=\"df-01e40b7d-ef3b-40f9-98c4-dcb17f98e2bc\">\n",
       "    <div class=\"colab-df-container\">\n",
       "      <div>\n",
       "<style scoped>\n",
       "    .dataframe tbody tr th:only-of-type {\n",
       "        vertical-align: middle;\n",
       "    }\n",
       "\n",
       "    .dataframe tbody tr th {\n",
       "        vertical-align: top;\n",
       "    }\n",
       "\n",
       "    .dataframe thead th {\n",
       "        text-align: right;\n",
       "    }\n",
       "</style>\n",
       "<table border=\"1\" class=\"dataframe\">\n",
       "  <thead>\n",
       "    <tr style=\"text-align: right;\">\n",
       "      <th></th>\n",
       "      <th>user_id</th>\n",
       "      <th>time_spent_on_the_page</th>\n",
       "    </tr>\n",
       "  </thead>\n",
       "  <tbody>\n",
       "    <tr>\n",
       "      <th>count</th>\n",
       "      <td>100.000000</td>\n",
       "      <td>100.000000</td>\n",
       "    </tr>\n",
       "    <tr>\n",
       "      <th>mean</th>\n",
       "      <td>546517.000000</td>\n",
       "      <td>5.377800</td>\n",
       "    </tr>\n",
       "    <tr>\n",
       "      <th>std</th>\n",
       "      <td>52.295779</td>\n",
       "      <td>2.378166</td>\n",
       "    </tr>\n",
       "    <tr>\n",
       "      <th>min</th>\n",
       "      <td>546443.000000</td>\n",
       "      <td>0.190000</td>\n",
       "    </tr>\n",
       "    <tr>\n",
       "      <th>25%</th>\n",
       "      <td>546467.750000</td>\n",
       "      <td>3.880000</td>\n",
       "    </tr>\n",
       "    <tr>\n",
       "      <th>50%</th>\n",
       "      <td>546492.500000</td>\n",
       "      <td>5.415000</td>\n",
       "    </tr>\n",
       "    <tr>\n",
       "      <th>75%</th>\n",
       "      <td>546567.250000</td>\n",
       "      <td>7.022500</td>\n",
       "    </tr>\n",
       "    <tr>\n",
       "      <th>max</th>\n",
       "      <td>546592.000000</td>\n",
       "      <td>10.710000</td>\n",
       "    </tr>\n",
       "  </tbody>\n",
       "</table>\n",
       "</div>\n",
       "      <button class=\"colab-df-convert\" onclick=\"convertToInteractive('df-01e40b7d-ef3b-40f9-98c4-dcb17f98e2bc')\"\n",
       "              title=\"Convert this dataframe to an interactive table.\"\n",
       "              style=\"display:none;\">\n",
       "        \n",
       "  <svg xmlns=\"http://www.w3.org/2000/svg\" height=\"24px\"viewBox=\"0 0 24 24\"\n",
       "       width=\"24px\">\n",
       "    <path d=\"M0 0h24v24H0V0z\" fill=\"none\"/>\n",
       "    <path d=\"M18.56 5.44l.94 2.06.94-2.06 2.06-.94-2.06-.94-.94-2.06-.94 2.06-2.06.94zm-11 1L8.5 8.5l.94-2.06 2.06-.94-2.06-.94L8.5 2.5l-.94 2.06-2.06.94zm10 10l.94 2.06.94-2.06 2.06-.94-2.06-.94-.94-2.06-.94 2.06-2.06.94z\"/><path d=\"M17.41 7.96l-1.37-1.37c-.4-.4-.92-.59-1.43-.59-.52 0-1.04.2-1.43.59L10.3 9.45l-7.72 7.72c-.78.78-.78 2.05 0 2.83L4 21.41c.39.39.9.59 1.41.59.51 0 1.02-.2 1.41-.59l7.78-7.78 2.81-2.81c.8-.78.8-2.07 0-2.86zM5.41 20L4 18.59l7.72-7.72 1.47 1.35L5.41 20z\"/>\n",
       "  </svg>\n",
       "      </button>\n",
       "      \n",
       "  <style>\n",
       "    .colab-df-container {\n",
       "      display:flex;\n",
       "      flex-wrap:wrap;\n",
       "      gap: 12px;\n",
       "    }\n",
       "\n",
       "    .colab-df-convert {\n",
       "      background-color: #E8F0FE;\n",
       "      border: none;\n",
       "      border-radius: 50%;\n",
       "      cursor: pointer;\n",
       "      display: none;\n",
       "      fill: #1967D2;\n",
       "      height: 32px;\n",
       "      padding: 0 0 0 0;\n",
       "      width: 32px;\n",
       "    }\n",
       "\n",
       "    .colab-df-convert:hover {\n",
       "      background-color: #E2EBFA;\n",
       "      box-shadow: 0px 1px 2px rgba(60, 64, 67, 0.3), 0px 1px 3px 1px rgba(60, 64, 67, 0.15);\n",
       "      fill: #174EA6;\n",
       "    }\n",
       "\n",
       "    [theme=dark] .colab-df-convert {\n",
       "      background-color: #3B4455;\n",
       "      fill: #D2E3FC;\n",
       "    }\n",
       "\n",
       "    [theme=dark] .colab-df-convert:hover {\n",
       "      background-color: #434B5C;\n",
       "      box-shadow: 0px 1px 3px 1px rgba(0, 0, 0, 0.15);\n",
       "      filter: drop-shadow(0px 1px 2px rgba(0, 0, 0, 0.3));\n",
       "      fill: #FFFFFF;\n",
       "    }\n",
       "  </style>\n",
       "\n",
       "      <script>\n",
       "        const buttonEl =\n",
       "          document.querySelector('#df-01e40b7d-ef3b-40f9-98c4-dcb17f98e2bc button.colab-df-convert');\n",
       "        buttonEl.style.display =\n",
       "          google.colab.kernel.accessAllowed ? 'block' : 'none';\n",
       "\n",
       "        async function convertToInteractive(key) {\n",
       "          const element = document.querySelector('#df-01e40b7d-ef3b-40f9-98c4-dcb17f98e2bc');\n",
       "          const dataTable =\n",
       "            await google.colab.kernel.invokeFunction('convertToInteractive',\n",
       "                                                     [key], {});\n",
       "          if (!dataTable) return;\n",
       "\n",
       "          const docLinkHtml = 'Like what you see? Visit the ' +\n",
       "            '<a target=\"_blank\" href=https://colab.research.google.com/notebooks/data_table.ipynb>data table notebook</a>'\n",
       "            + ' to learn more about interactive tables.';\n",
       "          element.innerHTML = '';\n",
       "          dataTable['output_type'] = 'display_data';\n",
       "          await google.colab.output.renderOutput(dataTable, element);\n",
       "          const docLink = document.createElement('div');\n",
       "          docLink.innerHTML = docLinkHtml;\n",
       "          element.appendChild(docLink);\n",
       "        }\n",
       "      </script>\n",
       "    </div>\n",
       "  </div>\n",
       "  "
      ],
      "text/plain": [
       "             user_id  time_spent_on_the_page\n",
       "count     100.000000              100.000000\n",
       "mean   546517.000000                5.377800\n",
       "std        52.295779                2.378166\n",
       "min    546443.000000                0.190000\n",
       "25%    546467.750000                3.880000\n",
       "50%    546492.500000                5.415000\n",
       "75%    546567.250000                7.022500\n",
       "max    546592.000000               10.710000"
      ]
     },
     "execution_count": 87,
     "metadata": {},
     "output_type": "execute_result"
    }
   ],
   "source": [
    "# Let's look at the statistical information of our numerical values\n",
    "df.describe()"
   ]
  },
  {
   "cell_type": "markdown",
   "id": "e47N3lo2SYVi",
   "metadata": {
    "id": "e47N3lo2SYVi"
   },
   "source": [
    "## Insights\n",
    "*    The mean and median are relatively close for time spent on the page, we can assume it is normally distributed.\n",
    "*    The standard deviation is 2.38 minutes\n",
    "*    the minimum amount of time is .19 minutes, and the maximum time is 10.71 minutes"
   ]
  },
  {
   "cell_type": "code",
   "execution_count": null,
   "id": "xa9lUcXwT5yy",
   "metadata": {
    "colab": {
     "base_uri": "https://localhost:8080/",
     "height": 175
    },
    "id": "xa9lUcXwT5yy",
    "outputId": "00e5038a-8222-4e6c-d86b-07d980e177f0"
   },
   "outputs": [
    {
     "data": {
      "text/html": [
       "\n",
       "  <div id=\"df-b716bba5-19df-4243-9029-8c5d2bd33060\">\n",
       "    <div class=\"colab-df-container\">\n",
       "      <div>\n",
       "<style scoped>\n",
       "    .dataframe tbody tr th:only-of-type {\n",
       "        vertical-align: middle;\n",
       "    }\n",
       "\n",
       "    .dataframe tbody tr th {\n",
       "        vertical-align: top;\n",
       "    }\n",
       "\n",
       "    .dataframe thead th {\n",
       "        text-align: right;\n",
       "    }\n",
       "</style>\n",
       "<table border=\"1\" class=\"dataframe\">\n",
       "  <thead>\n",
       "    <tr style=\"text-align: right;\">\n",
       "      <th></th>\n",
       "      <th>group</th>\n",
       "      <th>landing_page</th>\n",
       "      <th>converted</th>\n",
       "      <th>language_preferred</th>\n",
       "    </tr>\n",
       "  </thead>\n",
       "  <tbody>\n",
       "    <tr>\n",
       "      <th>count</th>\n",
       "      <td>100</td>\n",
       "      <td>100</td>\n",
       "      <td>100</td>\n",
       "      <td>100</td>\n",
       "    </tr>\n",
       "    <tr>\n",
       "      <th>unique</th>\n",
       "      <td>2</td>\n",
       "      <td>2</td>\n",
       "      <td>2</td>\n",
       "      <td>3</td>\n",
       "    </tr>\n",
       "    <tr>\n",
       "      <th>top</th>\n",
       "      <td>control</td>\n",
       "      <td>old</td>\n",
       "      <td>yes</td>\n",
       "      <td>Spanish</td>\n",
       "    </tr>\n",
       "    <tr>\n",
       "      <th>freq</th>\n",
       "      <td>50</td>\n",
       "      <td>50</td>\n",
       "      <td>54</td>\n",
       "      <td>34</td>\n",
       "    </tr>\n",
       "  </tbody>\n",
       "</table>\n",
       "</div>\n",
       "      <button class=\"colab-df-convert\" onclick=\"convertToInteractive('df-b716bba5-19df-4243-9029-8c5d2bd33060')\"\n",
       "              title=\"Convert this dataframe to an interactive table.\"\n",
       "              style=\"display:none;\">\n",
       "        \n",
       "  <svg xmlns=\"http://www.w3.org/2000/svg\" height=\"24px\"viewBox=\"0 0 24 24\"\n",
       "       width=\"24px\">\n",
       "    <path d=\"M0 0h24v24H0V0z\" fill=\"none\"/>\n",
       "    <path d=\"M18.56 5.44l.94 2.06.94-2.06 2.06-.94-2.06-.94-.94-2.06-.94 2.06-2.06.94zm-11 1L8.5 8.5l.94-2.06 2.06-.94-2.06-.94L8.5 2.5l-.94 2.06-2.06.94zm10 10l.94 2.06.94-2.06 2.06-.94-2.06-.94-.94-2.06-.94 2.06-2.06.94z\"/><path d=\"M17.41 7.96l-1.37-1.37c-.4-.4-.92-.59-1.43-.59-.52 0-1.04.2-1.43.59L10.3 9.45l-7.72 7.72c-.78.78-.78 2.05 0 2.83L4 21.41c.39.39.9.59 1.41.59.51 0 1.02-.2 1.41-.59l7.78-7.78 2.81-2.81c.8-.78.8-2.07 0-2.86zM5.41 20L4 18.59l7.72-7.72 1.47 1.35L5.41 20z\"/>\n",
       "  </svg>\n",
       "      </button>\n",
       "      \n",
       "  <style>\n",
       "    .colab-df-container {\n",
       "      display:flex;\n",
       "      flex-wrap:wrap;\n",
       "      gap: 12px;\n",
       "    }\n",
       "\n",
       "    .colab-df-convert {\n",
       "      background-color: #E8F0FE;\n",
       "      border: none;\n",
       "      border-radius: 50%;\n",
       "      cursor: pointer;\n",
       "      display: none;\n",
       "      fill: #1967D2;\n",
       "      height: 32px;\n",
       "      padding: 0 0 0 0;\n",
       "      width: 32px;\n",
       "    }\n",
       "\n",
       "    .colab-df-convert:hover {\n",
       "      background-color: #E2EBFA;\n",
       "      box-shadow: 0px 1px 2px rgba(60, 64, 67, 0.3), 0px 1px 3px 1px rgba(60, 64, 67, 0.15);\n",
       "      fill: #174EA6;\n",
       "    }\n",
       "\n",
       "    [theme=dark] .colab-df-convert {\n",
       "      background-color: #3B4455;\n",
       "      fill: #D2E3FC;\n",
       "    }\n",
       "\n",
       "    [theme=dark] .colab-df-convert:hover {\n",
       "      background-color: #434B5C;\n",
       "      box-shadow: 0px 1px 3px 1px rgba(0, 0, 0, 0.15);\n",
       "      filter: drop-shadow(0px 1px 2px rgba(0, 0, 0, 0.3));\n",
       "      fill: #FFFFFF;\n",
       "    }\n",
       "  </style>\n",
       "\n",
       "      <script>\n",
       "        const buttonEl =\n",
       "          document.querySelector('#df-b716bba5-19df-4243-9029-8c5d2bd33060 button.colab-df-convert');\n",
       "        buttonEl.style.display =\n",
       "          google.colab.kernel.accessAllowed ? 'block' : 'none';\n",
       "\n",
       "        async function convertToInteractive(key) {\n",
       "          const element = document.querySelector('#df-b716bba5-19df-4243-9029-8c5d2bd33060');\n",
       "          const dataTable =\n",
       "            await google.colab.kernel.invokeFunction('convertToInteractive',\n",
       "                                                     [key], {});\n",
       "          if (!dataTable) return;\n",
       "\n",
       "          const docLinkHtml = 'Like what you see? Visit the ' +\n",
       "            '<a target=\"_blank\" href=https://colab.research.google.com/notebooks/data_table.ipynb>data table notebook</a>'\n",
       "            + ' to learn more about interactive tables.';\n",
       "          element.innerHTML = '';\n",
       "          dataTable['output_type'] = 'display_data';\n",
       "          await google.colab.output.renderOutput(dataTable, element);\n",
       "          const docLink = document.createElement('div');\n",
       "          docLink.innerHTML = docLinkHtml;\n",
       "          element.appendChild(docLink);\n",
       "        }\n",
       "      </script>\n",
       "    </div>\n",
       "  </div>\n",
       "  "
      ],
      "text/plain": [
       "          group landing_page converted language_preferred\n",
       "count       100          100       100                100\n",
       "unique        2            2         2                  3\n",
       "top     control          old       yes            Spanish\n",
       "freq         50           50        54                 34"
      ]
     },
     "execution_count": 88,
     "metadata": {},
     "output_type": "execute_result"
    }
   ],
   "source": [
    "# Now let's look at the statistical information of our categorical data\n",
    "df.describe(include='object')"
   ]
  },
  {
   "cell_type": "code",
   "execution_count": null,
   "id": "-QbXcvbfUIfE",
   "metadata": {
    "colab": {
     "base_uri": "https://localhost:8080/"
    },
    "id": "-QbXcvbfUIfE",
    "outputId": "6fc69910-d20c-4f96-966f-57a00eb18f8c"
   },
   "outputs": [
    {
     "name": "stdout",
     "output_type": "stream",
     "text": [
      "Unique values in group: ['control' 'treatment']\n",
      "Unique values in landing_page: ['old' 'new']\n",
      "Unique values in converted: ['no' 'yes']\n",
      "Unique values in language_preferred: ['Spanish' 'English' 'French']\n"
     ]
    }
   ],
   "source": [
    "# What are the unique values in our dataframe?\n",
    "# list of columns to exclude\n",
    "exclude_cols = ['user_id', 'time_spent_on_the_page']\n",
    "\n",
    "# get the unique values in each column\n",
    "for col in df.columns:\n",
    "    if col not in exclude_cols:\n",
    "        unique_vals = df[col].unique()\n",
    "        print(f'Unique values in {col}: {unique_vals}')"
   ]
  },
  {
   "cell_type": "code",
   "execution_count": null,
   "id": "JzPRn3TaV_oc",
   "metadata": {
    "colab": {
     "base_uri": "https://localhost:8080/"
    },
    "id": "JzPRn3TaV_oc",
    "outputId": "b066c151-0f85-43bd-c2e7-31a183ed68c6"
   },
   "outputs": [
    {
     "name": "stdout",
     "output_type": "stream",
     "text": [
      "control      50\n",
      "treatment    50\n",
      "Name: group, dtype: int64\n",
      "---------------------------------------------------------\n",
      "old    50\n",
      "new    50\n",
      "Name: landing_page, dtype: int64\n",
      "---------------------------------------------------------\n",
      "yes    54\n",
      "no     46\n",
      "Name: converted, dtype: int64\n",
      "---------------------------------------------------------\n",
      "Spanish    34\n",
      "French     34\n",
      "English    32\n",
      "Name: language_preferred, dtype: int64\n"
     ]
    }
   ],
   "source": [
    "# How often do these values appear?\n",
    "print(df['group'].value_counts())\n",
    "print('---------------------------------------------------------')\n",
    "print(df['landing_page'].value_counts())\n",
    "print('---------------------------------------------------------')\n",
    "print(df['converted'].value_counts())\n",
    "print('---------------------------------------------------------')\n",
    "print(df['language_preferred'].value_counts())"
   ]
  },
  {
   "cell_type": "markdown",
   "id": "hhah413KXIGh",
   "metadata": {
    "id": "hhah413KXIGh"
   },
   "source": [
    "## Insights\n",
    "*    The control group is split evenly, 50 in control and 50 in treatment.\n",
    "*    Likewise, the users that saw the old landing page arer equal to those that saw the new landing page.\n",
    "*    Slightly more than half of all users were converted to paying members.\n",
    "*    French and Spanish are equally slightly more pouplar languages than English."
   ]
  },
  {
   "cell_type": "markdown",
   "id": "68f3b2c9",
   "metadata": {
    "id": "68f3b2c9"
   },
   "source": [
    "### Univariate Analysis"
   ]
  },
  {
   "cell_type": "code",
   "execution_count": null,
   "id": "1932d0f3",
   "metadata": {
    "colab": {
     "base_uri": "https://localhost:8080/",
     "height": 279
    },
    "id": "1932d0f3",
    "outputId": "5f9d5d20-155a-4a78-ab2b-19f826bdada3"
   },
   "outputs": [
    {
     "data": {
      "image/png": "[encoded data removed]",
      "text/plain": [
       "<Figure size 432x288 with 1 Axes>"
      ]
     },
     "metadata": {
      "needs_background": "light"
     },
     "output_type": "display_data"
    }
   ],
   "source": [
    "# First let's look at our data on the time spent on the page\n",
    "sns.boxplot(data=df,x ='time_spent_on_the_page')\n",
    "plt.xlabel('Time spent on the page (in minutes)')\n",
    "plt.show()"
   ]
  },
  {
   "cell_type": "code",
   "execution_count": null,
   "id": "RDTERYuZkwRc",
   "metadata": {
    "colab": {
     "base_uri": "https://localhost:8080/",
     "height": 279
    },
    "id": "RDTERYuZkwRc",
    "outputId": "2ffe6ef3-7c2c-44fe-8262-f51e11b059e6"
   },
   "outputs": [
    {
     "data": {
      "image/png": "[encoded data removed]",
      "text/plain": [
       "<Figure size 432x288 with 1 Axes>"
      ]
     },
     "metadata": {
      "needs_background": "light"
     },
     "output_type": "display_data"
    }
   ],
   "source": [
    "# Continue visualizing data using a hist plot\n",
    "sns.histplot(data=df,x='time_spent_on_the_page', kde=True)\n",
    "plt.xlabel('Time spent on the page (in minutes)')\n",
    "plt.ylabel('Amount')\n",
    "plt.show()"
   ]
  },
  {
   "cell_type": "markdown",
   "id": "stKSlB7NlPXN",
   "metadata": {
    "id": "stKSlB7NlPXN"
   },
   "source": [
    "## Insights\n",
    "*    There are no outliers recorded in the data set for the amount of time spent on the page\n",
    "*    The spread is roughly normally distributed\n",
    "*    The most common amount of time spent on the page was between 4 and 7 minutes"
   ]
  },
  {
   "cell_type": "code",
   "execution_count": null,
   "id": "beevkcWZlvdw",
   "metadata": {
    "colab": {
     "base_uri": "https://localhost:8080/",
     "height": 541
    },
    "id": "beevkcWZlvdw",
    "outputId": "a928508d-d79f-4d60-daed-6011e31ec86b"
   },
   "outputs": [
    {
     "data": {
      "image/png": "[encoded data removed]",
      "text/plain": [
       "<Figure size 432x288 with 1 Axes>"
      ]
     },
     "metadata": {
      "needs_background": "light"
     },
     "output_type": "display_data"
    },
    {
     "data": {
      "image/png": "[encoded data removed]",
      "text/plain": [
       "<Figure size 432x288 with 1 Axes>"
      ]
     },
     "metadata": {
      "needs_background": "light"
     },
     "output_type": "display_data"
    }
   ],
   "source": [
    "# We have already determined above that the amount of control tests are equal to the treatment tests.\n",
    "# We have also discovered this for the landing page type, but let's visualize this data\n",
    "sns.countplot(data=df,x='group')\n",
    "plt.xlabel('Group')\n",
    "plt.ylabel('Amount')\n",
    "plt.show()\n",
    "sns.countplot(data=df,x='landing_page')\n",
    "plt.xlabel('Landing Page')\n",
    "plt.ylabel('Amount')\n",
    "plt.show()"
   ]
  },
  {
   "cell_type": "markdown",
   "id": "_tvvCqYxmj5T",
   "metadata": {
    "id": "_tvvCqYxmj5T"
   },
   "source": [
    "## Insights\n",
    "*    Here we are able to confirm we are evenly distributed betwen our A/B test sizes"
   ]
  },
  {
   "cell_type": "code",
   "execution_count": null,
   "id": "mvRPyD9XmyQq",
   "metadata": {
    "colab": {
     "base_uri": "https://localhost:8080/",
     "height": 279
    },
    "id": "mvRPyD9XmyQq",
    "outputId": "f363f495-95ae-41e1-f806-835d8b9bb6b0"
   },
   "outputs": [
    {
     "data": {
      "image/png": "[encoded data removed]",
      "text/plain": [
       "<Figure size 432x288 with 1 Axes>"
      ]
     },
     "metadata": {
      "needs_background": "light"
     },
     "output_type": "display_data"
    }
   ],
   "source": [
    "# Now let's take a look at our conversion numbers\n",
    "sns.countplot(data=df,x='converted')\n",
    "plt.xlabel('Converted')\n",
    "plt.ylabel('Amount')\n",
    "plt.show()"
   ]
  },
  {
   "cell_type": "markdown",
   "id": "ws11gjs-m-4r",
   "metadata": {
    "id": "ws11gjs-m-4r"
   },
   "source": [
    "## Insights\n",
    "*    As we can see above, our conversion rate is just over half.\n",
    "*    We can conclude that through our test ing, regaardless of A/B, more than half of our customers became subscribers in the sample."
   ]
  },
  {
   "cell_type": "code",
   "execution_count": null,
   "id": "8lU0KmkCnc-t",
   "metadata": {
    "colab": {
     "base_uri": "https://localhost:8080/",
     "height": 279
    },
    "id": "8lU0KmkCnc-t",
    "outputId": "4979a75f-dc19-4a2f-d203-2a8491a33bca"
   },
   "outputs": [
    {
     "data": {
      "image/png": "[encoded data removed]",
      "text/plain": [
       "<Figure size 432x288 with 1 Axes>"
      ]
     },
     "metadata": {
      "needs_background": "light"
     },
     "output_type": "display_data"
    }
   ],
   "source": [
    "# How about language? Let's visualize our customer's language preference\n",
    "sns.countplot(data=df,x='language_preferred')\n",
    "plt.xlabel('Preferred Language')\n",
    "plt.ylabel('Amount')\n",
    "plt.show()"
   ]
  },
  {
   "cell_type": "markdown",
   "id": "b4vAw7X0nvvT",
   "metadata": {
    "id": "b4vAw7X0nvvT"
   },
   "source": [
    "## Insights\n",
    "*    As we can see above, the three language options were about evenly distributed among customers.\n",
    "*    Spanish and French were tied as most slected, with English just behind them."
   ]
  },
  {
   "cell_type": "markdown",
   "id": "fad2de2f",
   "metadata": {
    "id": "fad2de2f"
   },
   "source": [
    "### Bivariate Analysis"
   ]
  },
  {
   "cell_type": "code",
   "execution_count": null,
   "id": "58e9a1d0",
   "metadata": {
    "colab": {
     "base_uri": "https://localhost:8080/",
     "height": 334
    },
    "id": "58e9a1d0",
    "outputId": "b7e96ae5-82c9-407d-cac3-017372dd4649"
   },
   "outputs": [
    {
     "data": {
      "image/png": "[encoded data removed]",
      "text/plain": [
       "<Figure size 576x360 with 1 Axes>"
      ]
     },
     "metadata": {
      "needs_background": "light"
     },
     "output_type": "display_data"
    }
   ],
   "source": [
    "# Now we can start to compare our data to try and draw more insight\n",
    "# Firswt let's look at how long users spent on both the old and new landing pages\n",
    "plt.figure(figsize=(8,5))\n",
    "sns.boxplot(data=df,x='landing_page',y='time_spent_on_the_page')\n",
    "plt.xlabel('Landing Page Type')\n",
    "plt.ylabel('Time spent on page (minutes)')\n",
    "plt.show()"
   ]
  },
  {
   "cell_type": "markdown",
   "id": "LNomHXI7plp9",
   "metadata": {
    "id": "LNomHXI7plp9"
   },
   "source": [
    "## Insights\n",
    "*    There is a much wider range of time spent by users on the old landing page compared to the new landing page.\n",
    "*    The median of time spent on the new page is almost two minutes more than that of the old page.\n",
    "*    There are a few outliers in the data for the new landing page, showing the amount of time spent has a much smaller range.\n",
    "*    The upper and lower quartile on the old landing page is roughly twice as much compared to time spent on the new page."
   ]
  },
  {
   "cell_type": "code",
   "execution_count": null,
   "id": "pIDgz_rFqg6r",
   "metadata": {
    "colab": {
     "base_uri": "https://localhost:8080/",
     "height": 442
    },
    "id": "pIDgz_rFqg6r",
    "outputId": "0f68fdad-4161-4326-f100-ca231f18cdf0"
   },
   "outputs": [
    {
     "data": {
      "image/png": "[encoded data removed]",
      "text/plain": [
       "<Figure size 576x504 with 1 Axes>"
      ]
     },
     "metadata": {
      "needs_background": "light"
     },
     "output_type": "display_data"
    }
   ],
   "source": [
    "# We can now look at our conversions rates with the time users spent on a page\n",
    "# Will our data show a difference on whether time spent on a page impacted their likelyhood to subscribe?\n",
    "plt.figure(figsize=(8,7))\n",
    "sns.boxplot(data = df, x = 'converted', y = 'time_spent_on_the_page')\n",
    "plt.xlabel('Converted?')\n",
    "plt.ylabel('Time spent on page (minutes)')\n",
    "plt.show()"
   ]
  },
  {
   "cell_type": "markdown",
   "id": "x-Zj88TkrkDy",
   "metadata": {
    "id": "x-Zj88TkrkDy"
   },
   "source": [
    "## Insights\n",
    "*    The amount of time users spent on a page varied much more for users not converted compared to those that were.\n",
    "*    On average, converted users spent much more time on the page.\n",
    "*    In our sample, converted users spent at least 2 minutes on the page."
   ]
  },
  {
   "cell_type": "code",
   "execution_count": null,
   "id": "8kwdeuNfsYVf",
   "metadata": {
    "colab": {
     "base_uri": "https://localhost:8080/",
     "height": 442
    },
    "id": "8kwdeuNfsYVf",
    "outputId": "ee40bb61-de74-4dc7-ffd7-2c58001fcaec"
   },
   "outputs": [
    {
     "data": {
      "image/png": "[encoded data removed]",
      "text/plain": [
       "<Figure size 576x504 with 1 Axes>"
      ]
     },
     "metadata": {
      "needs_background": "light"
     },
     "output_type": "display_data"
    }
   ],
   "source": [
    "# Does language preference impace how long a user stays on the page?\n",
    "plt.figure(figsize=(8,7))\n",
    "sns.boxplot(data = df, x = 'language_preferred', y = 'time_spent_on_the_page')\n",
    "plt.xlabel('Preferred Language')\n",
    "plt.ylabel('Time spent on page (minutes)')\n",
    "plt.show()"
   ]
  },
  {
   "cell_type": "markdown",
   "id": "tt3jmj-ostd3",
   "metadata": {
    "id": "tt3jmj-ostd3"
   },
   "source": [
    "## Insights\n",
    "*    The amount of time spent on the page is roughly even between French and English users.\n",
    "*    Spanish speaking users spent a much smaller range of time on the page.\n",
    "*    The average amount of time spent of the page is roughly even across all three languages offered."
   ]
  },
  {
   "cell_type": "markdown",
   "id": "-VNCzG-trk5o",
   "metadata": {
    "id": "-VNCzG-trk5o"
   },
   "source": [
    "## Conclusions\n",
    "*    Users spend much more time on average with the new page.\n",
    "*    The more time a user spent on a page, the more likely they would convert to a subscriber.\n",
    "*    Language preference does not seem to impact time spent on the page."
   ]
  },
  {
   "cell_type": "markdown",
   "id": "27906576",
   "metadata": {
    "id": "27906576"
   },
   "source": [
    "## 1. Do the users spend more time on the new landing page than the existing landing page?"
   ]
  },
  {
   "cell_type": "markdown",
   "id": "e5fdf0c8",
   "metadata": {
    "id": "e5fdf0c8"
   },
   "source": [
    "### Perform Visual Analysis"
   ]
  },
  {
   "cell_type": "code",
   "execution_count": null,
   "id": "6eZJa41eg21n",
   "metadata": {
    "colab": {
     "base_uri": "https://localhost:8080/",
     "height": 442
    },
    "id": "6eZJa41eg21n",
    "outputId": "53fb32d1-f168-4dab-f8ab-1ae470035312"
   },
   "outputs": [
    {
     "data": {
      "image/png": "[encoded data removed]",
      "text/plain": [
       "<Figure size 576x504 with 1 Axes>"
      ]
     },
     "metadata": {
      "needs_background": "light"
     },
     "output_type": "display_data"
    }
   ],
   "source": [
    "# Let's visualize whether or not users spent more time on the new page compared to the old page\n",
    "plt.figure(figsize=(8,7))\n",
    "sns.boxplot(x = 'landing_page', y = 'time_spent_on_the_page', data = df)\n",
    "plt.xlabel('Landing Page')\n",
    "plt.ylabel('Time spent on page (minutes)')\n",
    "plt.show()"
   ]
  },
  {
   "cell_type": "markdown",
   "id": "67joITBdBGJZ",
   "metadata": {
    "id": "67joITBdBGJZ"
   },
   "source": [
    "## Insights\n",
    "*    The range of time people spent on the old landing page was much greater than that of the new page.\n",
    "*    There are no outliers for the old page, while the new page does have outliers on both sides.\n",
    "*    The median amount of time spent on the new page appears to be greater than that of the old page."
   ]
  },
  {
   "cell_type": "markdown",
   "id": "56b3dafd",
   "metadata": {
    "id": "56b3dafd"
   },
   "source": [
    "### Step 1: Define the null and alternate hypotheses"
   ]
  },
  {
   "cell_type": "markdown",
   "id": "d2ac77ef",
   "metadata": {
    "id": "d2ac77ef"
   },
   "source": [
    "$H_0$: Users spent the same amount of time or less on the new page compared to the old page\n",
    "\n",
    "$H_a$: Users spent more time on the new page compared to the old page.\n"
   ]
  },
  {
   "cell_type": "markdown",
   "id": "c7ee4907",
   "metadata": {
    "id": "c7ee4907"
   },
   "source": [
    "### Step 2: Select Appropriate test"
   ]
  },
  {
   "cell_type": "markdown",
   "id": "2c183cd7",
   "metadata": {
    "id": "2c183cd7"
   },
   "source": [
    "We have a hypothesis concerning one tail with two independent populations. Given that we don't know the standard deviation for the population, we can use the **two sample independent T-test.**"
   ]
  },
  {
   "cell_type": "markdown",
   "id": "3f58c9a7",
   "metadata": {
    "id": "3f58c9a7"
   },
   "source": [
    "### Step 3: Decide the significance level"
   ]
  },
  {
   "cell_type": "markdown",
   "id": "92d7d7ee",
   "metadata": {
    "id": "92d7d7ee"
   },
   "source": [
    "Our problem statment has given us a signicance level of 5%. \n",
    "\n",
    "$\\alpha = 0.05$."
   ]
  },
  {
   "cell_type": "markdown",
   "id": "5fed2eac",
   "metadata": {
    "id": "5fed2eac"
   },
   "source": [
    "### Step 4: Collect and prepare data"
   ]
  },
  {
   "cell_type": "code",
   "execution_count": null,
   "id": "f5a59495",
   "metadata": {
    "id": "f5a59495"
   },
   "outputs": [],
   "source": [
    "# First we need to subset our data so we can work with the specific values related to our hypothesis: time spent on the new page and time spent on the old page\n",
    "new_time = df[df['landing_page'] == 'new']['time_spent_on_the_page']\n",
    "\n",
    "old_time = df[df['landing_page'] == 'old']['time_spent_on_the_page']"
   ]
  },
  {
   "cell_type": "code",
   "execution_count": null,
   "id": "sj05K50WEDQ9",
   "metadata": {
    "colab": {
     "base_uri": "https://localhost:8080/"
    },
    "id": "sj05K50WEDQ9",
    "outputId": "cdbde5da-ba21-4507-de5e-0b238a998ce1"
   },
   "outputs": [
    {
     "name": "stdout",
     "output_type": "stream",
     "text": [
      "1.8170310387878263\n",
      "2.581974849306046\n"
     ]
    }
   ],
   "source": [
    "#Let's check the standard deviation for our new data subsets\n",
    "print(new_time.std())\n",
    "print(old_time.std())"
   ]
  },
  {
   "cell_type": "markdown",
   "id": "RTQY2O3tEhKm",
   "metadata": {
    "id": "RTQY2O3tEhKm"
   },
   "source": [
    "The standard deviation for time spent on the new page is 1.82 minutes, and 2.58 minutes on the old page."
   ]
  },
  {
   "cell_type": "markdown",
   "id": "f5c5258d",
   "metadata": {
    "id": "f5c5258d"
   },
   "source": [
    "### Step 5: Calculate the p-value"
   ]
  },
  {
   "cell_type": "code",
   "execution_count": null,
   "id": "fac8594a",
   "metadata": {
    "colab": {
     "base_uri": "https://localhost:8080/"
    },
    "id": "fac8594a",
    "outputId": "eea6c84c-f693-4d0a-be96-373332e7d2d0"
   },
   "outputs": [
    {
     "name": "stdout",
     "output_type": "stream",
     "text": [
      "0.0001316123528095005\n"
     ]
    }
   ],
   "source": [
    "# Since this is a two sample t test, let's import the function from scipy\n",
    "from scipy.stats import ttest_ind\n",
    "\n",
    "# Find the p-value\n",
    "test_stat, p_value = ttest_ind(new_time, old_time, equal_var=True, alternative='greater')\n",
    "print(p_value)"
   ]
  },
  {
   "cell_type": "markdown",
   "id": "359b12f8",
   "metadata": {
    "id": "359b12f8"
   },
   "source": [
    "### Step 6: Compare the p-value with $\\alpha$"
   ]
  },
  {
   "cell_type": "code",
   "execution_count": null,
   "id": "7be47289",
   "metadata": {
    "colab": {
     "base_uri": "https://localhost:8080/"
    },
    "id": "7be47289",
    "outputId": "163f9738-2ea7-488f-a19c-20f73160cced"
   },
   "outputs": [
    {
     "name": "stdout",
     "output_type": "stream",
     "text": [
      "As the p-value 0.0001316123528095005 is less than the level of significance, we reject the null hypothesis.\n"
     ]
    }
   ],
   "source": [
    "# Let's code a function to print a statement on our hypothesis depending on our p-value\n",
    "if p_value < 0.05:\n",
    "    print(f'As the p-value {p_value} is less than the level of significance, we reject the null hypothesis.')\n",
    "else:\n",
    "    print(f'As the p-value {p_value} is greater than the level of significance, we fail to reject the null hypothesis.')"
   ]
  },
  {
   "cell_type": "markdown",
   "id": "d9affc84",
   "metadata": {
    "id": "d9affc84"
   },
   "source": [
    "### Step 7:  Draw inference"
   ]
  },
  {
   "cell_type": "markdown",
   "id": "6b16dd4b",
   "metadata": {
    "id": "6b16dd4b"
   },
   "source": [
    "## Conclusions\n",
    "*    Our p-value is below the level of signifance, so we can confidently reject the null hypothesis.\n",
    "*    This means users spend, on average, more time on the new landing page.\n",
    "*    Our new landing page is more effective at keeping the attention of users."
   ]
  },
  {
   "cell_type": "markdown",
   "id": "353e9d24",
   "metadata": {
    "id": "353e9d24"
   },
   "source": [
    "## 2. Is the conversion rate (the proportion of users who visit the landing page and get converted) for the new page greater than the conversion rate for the old page?"
   ]
  },
  {
   "cell_type": "code",
   "execution_count": null,
   "id": "b7f52898",
   "metadata": {
    "colab": {
     "base_uri": "https://localhost:8080/",
     "height": 508
    },
    "id": "b7f52898",
    "outputId": "dbbae29d-295b-4f31-8fa6-669bc47ddad6"
   },
   "outputs": [
    {
     "data": {
      "image/png": "[encoded data removed]",
      "text/plain": [
       "<Figure size 432x576 with 1 Axes>"
      ]
     },
     "metadata": {
      "needs_background": "light"
     },
     "output_type": "display_data"
    }
   ],
   "source": [
    "# First we need to visualize our data\n",
    "pd.crosstab(df['landing_page'],df['converted'],normalize='index').plot(kind=\"bar\", figsize=(6,8),stacked=True)\n",
    "plt.legend()\n",
    "plt.show()"
   ]
  },
  {
   "cell_type": "markdown",
   "id": "I4keaVxi2MrF",
   "metadata": {
    "id": "I4keaVxi2MrF"
   },
   "source": [
    "## Insights\n",
    "\n",
    "*    After looking at the graph, we can see that more users were compared on the new page compared to the old page. But is that statisically accurate?"
   ]
  },
  {
   "cell_type": "markdown",
   "id": "RK8Kc-dI2mFl",
   "metadata": {
    "id": "RK8Kc-dI2mFl"
   },
   "source": [
    "## Hypothesis\n",
    "\n",
    "$H_0:$ Conversion rate on the new page is equal to that of the old page\n",
    "\n",
    "$H_a:$ Conversion rate on the new page is greater than that of the new page"
   ]
  },
  {
   "cell_type": "markdown",
   "id": "jxCx3OBg3FIR",
   "metadata": {
    "id": "jxCx3OBg3FIR"
   },
   "source": [
    "We have a hypothesis concerning one tail with two independent proportions. Given that we knbow the standard deviation we can use the **one sample proportions Z-test.**"
   ]
  },
  {
   "cell_type": "markdown",
   "id": "PGG8IvA_3xf3",
   "metadata": {
    "id": "PGG8IvA_3xf3"
   },
   "source": [
    "Our problem statment has given us a signicance level of 5%. \n",
    "\n",
    "$\\alpha = 0.05$."
   ]
  },
  {
   "cell_type": "code",
   "execution_count": null,
   "id": "VQkjsegG3zuf",
   "metadata": {
    "id": "VQkjsegG3zuf"
   },
   "outputs": [],
   "source": [
    "# Like before, we need to subset our data so we can work with the specific values related to our hypothesis\n",
    "new_converted = df[df['group'] == 'treatment']['converted'].value_counts()['yes']\n",
    "old_converted = df[df['group'] == 'control']['converted'].value_counts()['yes'] "
   ]
  },
  {
   "cell_type": "code",
   "execution_count": null,
   "id": "4_Km93Zq4O15",
   "metadata": {
    "colab": {
     "base_uri": "https://localhost:8080/"
    },
    "id": "4_Km93Zq4O15",
    "outputId": "5a7c17ac-6560-45df-d599-63d46be19b3f"
   },
   "outputs": [
    {
     "name": "stdout",
     "output_type": "stream",
     "text": [
      "There are 50 users viewing the old page, and 50 users viewing the new page.\n"
     ]
    }
   ],
   "source": [
    "# Now that we have our value counts, let's assign them to a variable\n",
    "control = df.group.value_counts()['control'] \n",
    "treatment = df.group.value_counts()['treatment'] \n",
    "print('There are', control, 'users viewing the old page, and', treatment, 'users viewing the new page.')"
   ]
  },
  {
   "cell_type": "code",
   "execution_count": null,
   "id": "lPVr9P895jsw",
   "metadata": {
    "colab": {
     "base_uri": "https://localhost:8080/"
    },
    "id": "lPVr9P895jsw",
    "outputId": "7f650173-912d-4021-d067-ec25e134f303"
   },
   "outputs": [
    {
     "name": "stdout",
     "output_type": "stream",
     "text": [
      "The p-value is 0.008026308204056278\n"
     ]
    }
   ],
   "source": [
    "# Let's import our code and calculate our p-value\n",
    "from statsmodels.stats.proportion import proportions_ztest   \n",
    "test_stat, p_value = proportions_ztest([new_converted, old_converted] , [treatment, control], alternative ='larger')   \n",
    "\n",
    "print('The p-value is', p_value)"
   ]
  },
  {
   "cell_type": "code",
   "execution_count": null,
   "id": "eLr3fBsx8IpF",
   "metadata": {
    "colab": {
     "base_uri": "https://localhost:8080/"
    },
    "id": "eLr3fBsx8IpF",
    "outputId": "5a7b4b4f-f869-415f-f6ee-99b1bd4c275e"
   },
   "outputs": [
    {
     "name": "stdout",
     "output_type": "stream",
     "text": [
      "As the p-value 0.008026308204056278 is less than the level of significance, we reject the null hypothesis.\n"
     ]
    }
   ],
   "source": [
    "# Let's code a function to print a statement on our hypothesis depending on our p-value\n",
    "if p_value < 0.05:\n",
    "    print(f'As the p-value {p_value} is less than the level of significance, we reject the null hypothesis.')\n",
    "else:\n",
    "    print(f'As the p-value {p_value} is greater than the level of significance, we fail to reject the null hypothesis.')"
   ]
  },
  {
   "cell_type": "markdown",
   "id": "kdcbaw2k70_J",
   "metadata": {
    "id": "kdcbaw2k70_J"
   },
   "source": [
    "## Insights\n",
    "\n",
    "*    The p-value is below our level of significance, so we reject the null hypothesis.\n",
    "*    Stats provide clear evidence that users are morel ikely to convert on the new page compared to the old page."
   ]
  },
  {
   "cell_type": "markdown",
   "id": "d49bfa2d",
   "metadata": {
    "id": "d49bfa2d"
   },
   "source": [
    "## 3. Is the conversion and preferred language are independent or related?"
   ]
  },
  {
   "cell_type": "code",
   "execution_count": null,
   "id": "b0e63f17",
   "metadata": {
    "colab": {
     "base_uri": "https://localhost:8080/"
    },
    "id": "b0e63f17",
    "outputId": "a5454bae-366e-4edb-f73b-c025964a765e"
   },
   "outputs": [
    {
     "data": {
      "image/png": "[encoded data removed]",
      "text/plain": [
       "<Figure size 504x576 with 1 Axes>"
      ]
     },
     "metadata": {
      "needs_background": "light"
     },
     "output_type": "display_data"
    }
   ],
   "source": [
    "# As before, let's visualize the data we are taking a look at specifically\n",
    "pd.crosstab(df['language_preferred'],df['converted'],normalize='index').plot(kind=\"bar\", figsize=(7,8), stacked=True)\n",
    "plt.legend()\n",
    "plt.show()"
   ]
  },
  {
   "cell_type": "markdown",
   "id": "sulZWzzn9pwg",
   "metadata": {
    "id": "sulZWzzn9pwg"
   },
   "source": [
    "## Insights\n",
    "\n",
    "*    Based on our graph, more than half of users for Spanish and English are converted users.\n",
    "*    French is the opposite of this trend, with half of users not converting.\n",
    "*    Is there statistical evidence to show that language preference impacts conversion?"
   ]
  },
  {
   "cell_type": "markdown",
   "id": "y4ISRH3L-DoD",
   "metadata": {
    "id": "y4ISRH3L-DoD"
   },
   "source": [
    "## Hypothesis\n",
    "\n",
    "$H_0:$ Conversion rate is the equal for all languages\n",
    "\n",
    "$H_a:$ Conversion rate is not equal for all languages"
   ]
  },
  {
   "cell_type": "markdown",
   "id": "HbihkoIwAj9s",
   "metadata": {
    "id": "HbihkoIwAj9s"
   },
   "source": [
    "With the values involved, we need to test independence between them. For this we can use the **Chi-squared test of independence.**"
   ]
  },
  {
   "cell_type": "markdown",
   "id": "kg139egGBCUl",
   "metadata": {
    "id": "kg139egGBCUl"
   },
   "source": [
    "Our problem statment has given us a signicance level of 5%. \n",
    "\n",
    "$\\alpha = 0.05$."
   ]
  },
  {
   "cell_type": "code",
   "execution_count": null,
   "id": "bCXqoN0-BDqb",
   "metadata": {
    "colab": {
     "base_uri": "https://localhost:8080/",
     "height": 143
    },
    "id": "bCXqoN0-BDqb",
    "outputId": "21c0cf2f-e8f6-4829-a44d-313093259c26"
   },
   "outputs": [
    {
     "data": {
      "text/html": [
       "\n",
       "  <div id=\"df-ca2e9d5f-5d4e-47ec-9be2-47df18e75ff6\">\n",
       "    <div class=\"colab-df-container\">\n",
       "      <div>\n",
       "<style scoped>\n",
       "    .dataframe tbody tr th:only-of-type {\n",
       "        vertical-align: middle;\n",
       "    }\n",
       "\n",
       "    .dataframe tbody tr th {\n",
       "        vertical-align: top;\n",
       "    }\n",
       "\n",
       "    .dataframe thead th {\n",
       "        text-align: right;\n",
       "    }\n",
       "</style>\n",
       "<table border=\"1\" class=\"dataframe\">\n",
       "  <thead>\n",
       "    <tr style=\"text-align: right;\">\n",
       "      <th>language_preferred</th>\n",
       "      <th>English</th>\n",
       "      <th>French</th>\n",
       "      <th>Spanish</th>\n",
       "    </tr>\n",
       "    <tr>\n",
       "      <th>converted</th>\n",
       "      <th></th>\n",
       "      <th></th>\n",
       "      <th></th>\n",
       "    </tr>\n",
       "  </thead>\n",
       "  <tbody>\n",
       "    <tr>\n",
       "      <th>no</th>\n",
       "      <td>11</td>\n",
       "      <td>19</td>\n",
       "      <td>16</td>\n",
       "    </tr>\n",
       "    <tr>\n",
       "      <th>yes</th>\n",
       "      <td>21</td>\n",
       "      <td>15</td>\n",
       "      <td>18</td>\n",
       "    </tr>\n",
       "  </tbody>\n",
       "</table>\n",
       "</div>\n",
       "      <button class=\"colab-df-convert\" onclick=\"convertToInteractive('df-ca2e9d5f-5d4e-47ec-9be2-47df18e75ff6')\"\n",
       "              title=\"Convert this dataframe to an interactive table.\"\n",
       "              style=\"display:none;\">\n",
       "        \n",
       "  <svg xmlns=\"http://www.w3.org/2000/svg\" height=\"24px\"viewBox=\"0 0 24 24\"\n",
       "       width=\"24px\">\n",
       "    <path d=\"M0 0h24v24H0V0z\" fill=\"none\"/>\n",
       "    <path d=\"M18.56 5.44l.94 2.06.94-2.06 2.06-.94-2.06-.94-.94-2.06-.94 2.06-2.06.94zm-11 1L8.5 8.5l.94-2.06 2.06-.94-2.06-.94L8.5 2.5l-.94 2.06-2.06.94zm10 10l.94 2.06.94-2.06 2.06-.94-2.06-.94-.94-2.06-.94 2.06-2.06.94z\"/><path d=\"M17.41 7.96l-1.37-1.37c-.4-.4-.92-.59-1.43-.59-.52 0-1.04.2-1.43.59L10.3 9.45l-7.72 7.72c-.78.78-.78 2.05 0 2.83L4 21.41c.39.39.9.59 1.41.59.51 0 1.02-.2 1.41-.59l7.78-7.78 2.81-2.81c.8-.78.8-2.07 0-2.86zM5.41 20L4 18.59l7.72-7.72 1.47 1.35L5.41 20z\"/>\n",
       "  </svg>\n",
       "      </button>\n",
       "      \n",
       "  <style>\n",
       "    .colab-df-container {\n",
       "      display:flex;\n",
       "      flex-wrap:wrap;\n",
       "      gap: 12px;\n",
       "    }\n",
       "\n",
       "    .colab-df-convert {\n",
       "      background-color: #E8F0FE;\n",
       "      border: none;\n",
       "      border-radius: 50%;\n",
       "      cursor: pointer;\n",
       "      display: none;\n",
       "      fill: #1967D2;\n",
       "      height: 32px;\n",
       "      padding: 0 0 0 0;\n",
       "      width: 32px;\n",
       "    }\n",
       "\n",
       "    .colab-df-convert:hover {\n",
       "      background-color: #E2EBFA;\n",
       "      box-shadow: 0px 1px 2px rgba(60, 64, 67, 0.3), 0px 1px 3px 1px rgba(60, 64, 67, 0.15);\n",
       "      fill: #174EA6;\n",
       "    }\n",
       "\n",
       "    [theme=dark] .colab-df-convert {\n",
       "      background-color: #3B4455;\n",
       "      fill: #D2E3FC;\n",
       "    }\n",
       "\n",
       "    [theme=dark] .colab-df-convert:hover {\n",
       "      background-color: #434B5C;\n",
       "      box-shadow: 0px 1px 3px 1px rgba(0, 0, 0, 0.15);\n",
       "      filter: drop-shadow(0px 1px 2px rgba(0, 0, 0, 0.3));\n",
       "      fill: #FFFFFF;\n",
       "    }\n",
       "  </style>\n",
       "\n",
       "      <script>\n",
       "        const buttonEl =\n",
       "          document.querySelector('#df-ca2e9d5f-5d4e-47ec-9be2-47df18e75ff6 button.colab-df-convert');\n",
       "        buttonEl.style.display =\n",
       "          google.colab.kernel.accessAllowed ? 'block' : 'none';\n",
       "\n",
       "        async function convertToInteractive(key) {\n",
       "          const element = document.querySelector('#df-ca2e9d5f-5d4e-47ec-9be2-47df18e75ff6');\n",
       "          const dataTable =\n",
       "            await google.colab.kernel.invokeFunction('convertToInteractive',\n",
       "                                                     [key], {});\n",
       "          if (!dataTable) return;\n",
       "\n",
       "          const docLinkHtml = 'Like what you see? Visit the ' +\n",
       "            '<a target=\"_blank\" href=https://colab.research.google.com/notebooks/data_table.ipynb>data table notebook</a>'\n",
       "            + ' to learn more about interactive tables.';\n",
       "          element.innerHTML = '';\n",
       "          dataTable['output_type'] = 'display_data';\n",
       "          await google.colab.output.renderOutput(dataTable, element);\n",
       "          const docLink = document.createElement('div');\n",
       "          docLink.innerHTML = docLinkHtml;\n",
       "          element.appendChild(docLink);\n",
       "        }\n",
       "      </script>\n",
       "    </div>\n",
       "  </div>\n",
       "  "
      ],
      "text/plain": [
       "language_preferred  English  French  Spanish\n",
       "converted                                   \n",
       "no                       11      19       16\n",
       "yes                      21      15       18"
      ]
     },
     "execution_count": 110,
     "metadata": {},
     "output_type": "execute_result"
    }
   ],
   "source": [
    "# Let's start by preparing our data to perform the correct tests\n",
    "lang_table = pd.crosstab(df['converted'], df['language_preferred'])  \n",
    "\n",
    "lang_table"
   ]
  },
  {
   "cell_type": "code",
   "execution_count": null,
   "id": "ub7BzHTYBtuP",
   "metadata": {
    "colab": {
     "base_uri": "https://localhost:8080/"
    },
    "id": "ub7BzHTYBtuP",
    "outputId": "c8837dc4-f2f6-40ca-ea9d-8b150ffad792"
   },
   "outputs": [
    {
     "name": "stdout",
     "output_type": "stream",
     "text": [
      "The p-value is 0.21298887487543447\n"
     ]
    }
   ],
   "source": [
    "# SciPy has the correct test we are looking for, let's import it\n",
    "from scipy.stats import chi2_contingency  \n",
    "\n",
    "# Now we can run the test to determine our p-value\n",
    "chi2, p_value, dof, exp_freq = chi2_contingency(lang_table)\n",
    "print('The p-value is', p_value)"
   ]
  },
  {
   "cell_type": "code",
   "execution_count": null,
   "id": "h3byuqY6CNzS",
   "metadata": {
    "colab": {
     "base_uri": "https://localhost:8080/"
    },
    "id": "h3byuqY6CNzS",
    "outputId": "15037990-3518-47a2-d643-8ad9d18a4113"
   },
   "outputs": [
    {
     "name": "stdout",
     "output_type": "stream",
     "text": [
      "As the p-value 0.21298887487543447 is greater than the level of significance, we fail to reject the null hypothesis.\n"
     ]
    }
   ],
   "source": [
    "# Let's code a function to print a statement on our hypothesis depending on our p-value\n",
    "if p_value < 0.05:\n",
    "    print(f'As the p-value {p_value} is less than the level of significance, we reject the null hypothesis.')\n",
    "else:\n",
    "    print(f'As the p-value {p_value} is greater than the level of significance, we fail to reject the null hypothesis.')"
   ]
  },
  {
   "cell_type": "markdown",
   "id": "FOlGQuOUCRcI",
   "metadata": {
    "id": "FOlGQuOUCRcI"
   },
   "source": [
    "## Insights\n",
    "\n",
    "*    While it initially looked like language preference in the graph, our statistics show that is not the case.\n",
    "*    Our p-value is much higher than our alpha, so we failed to reject the null hypothesis.\n",
    "*    Thus we can say that language does not affect conversion rate."
   ]
  },
  {
   "cell_type": "markdown",
   "id": "8d585a90",
   "metadata": {
    "id": "8d585a90"
   },
   "source": [
    "## 4. Is the time spent on the new page same for the different language users?"
   ]
  },
  {
   "cell_type": "code",
   "execution_count": null,
   "id": "b422f395",
   "metadata": {
    "colab": {
     "base_uri": "https://localhost:8080/"
    },
    "id": "b422f395",
    "outputId": "8f092fab-5d64-43ed-deca-ac550a30b5fd"
   },
   "outputs": [
    {
     "data": {
      "text/html": [
       "\n",
       "  <div id=\"df-1a777e1b-11fe-484e-988e-7739de43fa0b\">\n",
       "    <div class=\"colab-df-container\">\n",
       "      <div>\n",
       "<style scoped>\n",
       "    .dataframe tbody tr th:only-of-type {\n",
       "        vertical-align: middle;\n",
       "    }\n",
       "\n",
       "    .dataframe tbody tr th {\n",
       "        vertical-align: top;\n",
       "    }\n",
       "\n",
       "    .dataframe thead th {\n",
       "        text-align: right;\n",
       "    }\n",
       "</style>\n",
       "<table border=\"1\" class=\"dataframe\">\n",
       "  <thead>\n",
       "    <tr style=\"text-align: right;\">\n",
       "      <th></th>\n",
       "      <th>user_id</th>\n",
       "      <th>group</th>\n",
       "      <th>landing_page</th>\n",
       "      <th>time_spent_on_the_page</th>\n",
       "      <th>converted</th>\n",
       "      <th>language_preferred</th>\n",
       "    </tr>\n",
       "  </thead>\n",
       "  <tbody>\n",
       "    <tr>\n",
       "      <th>1</th>\n",
       "      <td>546468</td>\n",
       "      <td>treatment</td>\n",
       "      <td>new</td>\n",
       "      <td>7.13</td>\n",
       "      <td>yes</td>\n",
       "      <td>English</td>\n",
       "    </tr>\n",
       "    <tr>\n",
       "      <th>2</th>\n",
       "      <td>546462</td>\n",
       "      <td>treatment</td>\n",
       "      <td>new</td>\n",
       "      <td>4.40</td>\n",
       "      <td>no</td>\n",
       "      <td>Spanish</td>\n",
       "    </tr>\n",
       "    <tr>\n",
       "      <th>4</th>\n",
       "      <td>546459</td>\n",
       "      <td>treatment</td>\n",
       "      <td>new</td>\n",
       "      <td>4.75</td>\n",
       "      <td>yes</td>\n",
       "      <td>Spanish</td>\n",
       "    </tr>\n",
       "    <tr>\n",
       "      <th>6</th>\n",
       "      <td>546448</td>\n",
       "      <td>treatment</td>\n",
       "      <td>new</td>\n",
       "      <td>5.25</td>\n",
       "      <td>yes</td>\n",
       "      <td>French</td>\n",
       "    </tr>\n",
       "    <tr>\n",
       "      <th>8</th>\n",
       "      <td>546461</td>\n",
       "      <td>treatment</td>\n",
       "      <td>new</td>\n",
       "      <td>10.71</td>\n",
       "      <td>yes</td>\n",
       "      <td>French</td>\n",
       "    </tr>\n",
       "  </tbody>\n",
       "</table>\n",
       "</div>\n",
       "      <button class=\"colab-df-convert\" onclick=\"convertToInteractive('df-1a777e1b-11fe-484e-988e-7739de43fa0b')\"\n",
       "              title=\"Convert this dataframe to an interactive table.\"\n",
       "              style=\"display:none;\">\n",
       "        \n",
       "  <svg xmlns=\"http://www.w3.org/2000/svg\" height=\"24px\"viewBox=\"0 0 24 24\"\n",
       "       width=\"24px\">\n",
       "    <path d=\"M0 0h24v24H0V0z\" fill=\"none\"/>\n",
       "    <path d=\"M18.56 5.44l.94 2.06.94-2.06 2.06-.94-2.06-.94-.94-2.06-.94 2.06-2.06.94zm-11 1L8.5 8.5l.94-2.06 2.06-.94-2.06-.94L8.5 2.5l-.94 2.06-2.06.94zm10 10l.94 2.06.94-2.06 2.06-.94-2.06-.94-.94-2.06-.94 2.06-2.06.94z\"/><path d=\"M17.41 7.96l-1.37-1.37c-.4-.4-.92-.59-1.43-.59-.52 0-1.04.2-1.43.59L10.3 9.45l-7.72 7.72c-.78.78-.78 2.05 0 2.83L4 21.41c.39.39.9.59 1.41.59.51 0 1.02-.2 1.41-.59l7.78-7.78 2.81-2.81c.8-.78.8-2.07 0-2.86zM5.41 20L4 18.59l7.72-7.72 1.47 1.35L5.41 20z\"/>\n",
       "  </svg>\n",
       "      </button>\n",
       "      \n",
       "  <style>\n",
       "    .colab-df-container {\n",
       "      display:flex;\n",
       "      flex-wrap:wrap;\n",
       "      gap: 12px;\n",
       "    }\n",
       "\n",
       "    .colab-df-convert {\n",
       "      background-color: #E8F0FE;\n",
       "      border: none;\n",
       "      border-radius: 50%;\n",
       "      cursor: pointer;\n",
       "      display: none;\n",
       "      fill: #1967D2;\n",
       "      height: 32px;\n",
       "      padding: 0 0 0 0;\n",
       "      width: 32px;\n",
       "    }\n",
       "\n",
       "    .colab-df-convert:hover {\n",
       "      background-color: #E2EBFA;\n",
       "      box-shadow: 0px 1px 2px rgba(60, 64, 67, 0.3), 0px 1px 3px 1px rgba(60, 64, 67, 0.15);\n",
       "      fill: #174EA6;\n",
       "    }\n",
       "\n",
       "    [theme=dark] .colab-df-convert {\n",
       "      background-color: #3B4455;\n",
       "      fill: #D2E3FC;\n",
       "    }\n",
       "\n",
       "    [theme=dark] .colab-df-convert:hover {\n",
       "      background-color: #434B5C;\n",
       "      box-shadow: 0px 1px 3px 1px rgba(0, 0, 0, 0.15);\n",
       "      filter: drop-shadow(0px 1px 2px rgba(0, 0, 0, 0.3));\n",
       "      fill: #FFFFFF;\n",
       "    }\n",
       "  </style>\n",
       "\n",
       "      <script>\n",
       "        const buttonEl =\n",
       "          document.querySelector('#df-1a777e1b-11fe-484e-988e-7739de43fa0b button.colab-df-convert');\n",
       "        buttonEl.style.display =\n",
       "          google.colab.kernel.accessAllowed ? 'block' : 'none';\n",
       "\n",
       "        async function convertToInteractive(key) {\n",
       "          const element = document.querySelector('#df-1a777e1b-11fe-484e-988e-7739de43fa0b');\n",
       "          const dataTable =\n",
       "            await google.colab.kernel.invokeFunction('convertToInteractive',\n",
       "                                                     [key], {});\n",
       "          if (!dataTable) return;\n",
       "\n",
       "          const docLinkHtml = 'Like what you see? Visit the ' +\n",
       "            '<a target=\"_blank\" href=https://colab.research.google.com/notebooks/data_table.ipynb>data table notebook</a>'\n",
       "            + ' to learn more about interactive tables.';\n",
       "          element.innerHTML = '';\n",
       "          dataTable['output_type'] = 'display_data';\n",
       "          await google.colab.output.renderOutput(dataTable, element);\n",
       "          const docLink = document.createElement('div');\n",
       "          docLink.innerHTML = docLinkHtml;\n",
       "          element.appendChild(docLink);\n",
       "        }\n",
       "      </script>\n",
       "    </div>\n",
       "  </div>\n",
       "  "
      ],
      "text/plain": [
       "   user_id      group landing_page  time_spent_on_the_page converted  \\\n",
       "1   546468  treatment          new                    7.13       yes   \n",
       "2   546462  treatment          new                    4.40        no   \n",
       "4   546459  treatment          new                    4.75       yes   \n",
       "6   546448  treatment          new                    5.25       yes   \n",
       "8   546461  treatment          new                   10.71       yes   \n",
       "\n",
       "  language_preferred  \n",
       "1            English  \n",
       "2            Spanish  \n",
       "4            Spanish  \n",
       "6             French  \n",
       "8             French  "
      ]
     },
     "execution_count": 113,
     "metadata": {},
     "output_type": "execute_result"
    }
   ],
   "source": [
    "# As always let's visualize our data concering this question\n",
    "# Let's create another data frame subset with users who were given the new page\n",
    "new_language = df[df['landing_page'] == 'new']\n",
    "new_language.head()"
   ]
  },
  {
   "cell_type": "code",
   "execution_count": null,
   "id": "obscEeZODckh",
   "metadata": {
    "colab": {
     "base_uri": "https://localhost:8080/"
    },
    "id": "obscEeZODckh",
    "outputId": "0cd5d105-3547-4b48-9ebc-f86f245a8bbd"
   },
   "outputs": [
    {
     "data": {
      "image/png": "[encoded data removed]",
      "text/plain": [
       "<Figure size 576x504 with 1 Axes>"
      ]
     },
     "metadata": {
      "needs_background": "light"
     },
     "output_type": "display_data"
    }
   ],
   "source": [
    "# Now we can create our graph, this time using a boxplot\n",
    "plt.figure(figsize=(8,7))\n",
    "sns.boxplot(x = 'language_preferred', y = 'time_spent_on_the_page', data = new_language)\n",
    "plt.xlabel('Preferred Language')\n",
    "plt.ylabel('Time spent on page (minutes)')\n",
    "plt.show();"
   ]
  },
  {
   "cell_type": "markdown",
   "id": "w5hwTIqvEhr4",
   "metadata": {
    "id": "w5hwTIqvEhr4"
   },
   "source": [
    "## Insights\n",
    "\n",
    "*    While the median differs slightly between languages, no language visually appears to spend more or less time on the page compared to each other.\n",
    "*    There are a couple outliers in or data."
   ]
  },
  {
   "cell_type": "markdown",
   "id": "wJNd_AYnE-wL",
   "metadata": {
    "id": "wJNd_AYnE-wL"
   },
   "source": [
    "## Hypothesis\n",
    "\n",
    "$H_0:$ Time spent on the new page is the equal for all languages\n",
    "\n",
    "$H_a:$ Time spent on the new page is not equal for all languages"
   ]
  },
  {
   "cell_type": "markdown",
   "id": "D-XvZx_HFObj",
   "metadata": {
    "id": "D-XvZx_HFObj"
   },
   "source": [
    "Our hypothesis involves looking at the mean (average) of three seperate populations. Given this information, we should use the **ANOVA test.**"
   ]
  },
  {
   "cell_type": "markdown",
   "id": "0-dZDxJRFOkJ",
   "metadata": {
    "id": "0-dZDxJRFOkJ"
   },
   "source": [
    "Our problem statment has given us a signicance level of 5%. \n",
    "\n",
    "$\\alpha = 0.05$."
   ]
  },
  {
   "cell_type": "code",
   "execution_count": null,
   "id": "4lp77AJ5F1hO",
   "metadata": {
    "colab": {
     "base_uri": "https://localhost:8080/"
    },
    "id": "4lp77AJ5F1hO",
    "outputId": "b5d40cdd-e868-48ef-f221-adfd36a56eae"
   },
   "outputs": [
    {
     "data": {
      "text/plain": [
       "language_preferred\n",
       "English    6.663750\n",
       "French     6.196471\n",
       "Spanish    5.835294\n",
       "Name: time_spent_on_the_page, dtype: float64"
      ]
     },
     "execution_count": 115,
     "metadata": {},
     "output_type": "execute_result"
    }
   ],
   "source": [
    "# Before we can calculate our p-value, we need to get our data in order\n",
    "# Since this is a test of means, we need to get the mean values\n",
    "new_language.groupby(['language_preferred'])['time_spent_on_the_page'].mean()"
   ]
  },
  {
   "cell_type": "code",
   "execution_count": null,
   "id": "1H28xf22F_oN",
   "metadata": {
    "id": "1H28xf22F_oN"
   },
   "outputs": [],
   "source": [
    "# To properly run our test, we need to subset each data set\n",
    "english_time = new_language[new_language['language_preferred']=='English']['time_spent_on_the_page']\n",
    "spanish_time = new_language[new_language['language_preferred']=='Spanish']['time_spent_on_the_page']\n",
    "french_time = new_language[new_language['language_preferred']=='French']['time_spent_on_the_page']"
   ]
  },
  {
   "cell_type": "code",
   "execution_count": null,
   "id": "wceG-f5SYGTv",
   "metadata": {
    "colab": {
     "base_uri": "https://localhost:8080/"
    },
    "id": "wceG-f5SYGTv",
    "outputId": "f554418d-3e4c-4562-a746-0ef3f6f8976e"
   },
   "outputs": [
    {
     "name": "stdout",
     "output_type": "stream",
     "text": [
      "The p value is  0.5643193125724792\n"
     ]
    }
   ],
   "source": [
    "# Before we can run the ANOVA test, we need to test for normality\n",
    "# Let's import and run the Shapiro test from scipy for this\n",
    "from scipy import stats\n",
    "\n",
    "w, p_value = stats.shapiro(df['time_spent_on_the_page'])\n",
    "print('The p value is ', p_value)"
   ]
  },
  {
   "cell_type": "markdown",
   "id": "wIkafAIBZdjV",
   "metadata": {
    "id": "wIkafAIBZdjV"
   },
   "source": [
    "*    The Shapiro test passed, so we can assume normality."
   ]
  },
  {
   "cell_type": "code",
   "execution_count": null,
   "id": "7e21OHOcZmpI",
   "metadata": {
    "colab": {
     "base_uri": "https://localhost:8080/"
    },
    "id": "7e21OHOcZmpI",
    "outputId": "9d02c336-a921-4810-87ee-e125b78a777f"
   },
   "outputs": [
    {
     "name": "stdout",
     "output_type": "stream",
     "text": [
      "The p value is  0.46711357711340173\n"
     ]
    }
   ],
   "source": [
    "# Now we should test for variance with the levene test\n",
    "# As before, let's import the required functionality\n",
    "from scipy.stats import levene\n",
    "\n",
    "# Now we can run the test\n",
    "statistic, p_value = stats.levene(english_time, spanish_time, french_time) \n",
    "\n",
    "# Let's check our data\n",
    "print('The p value is ', p_value)"
   ]
  },
  {
   "cell_type": "markdown",
   "id": "7S2h9g0JaiGA",
   "metadata": {
    "id": "7S2h9g0JaiGA"
   },
   "source": [
    "*    Our data has passed both the Shapiro and Levene tests, so now we can run our ANOVA test."
   ]
  },
  {
   "cell_type": "code",
   "execution_count": null,
   "id": "ZCKmeI0GLsiO",
   "metadata": {
    "colab": {
     "base_uri": "https://localhost:8080/"
    },
    "id": "ZCKmeI0GLsiO",
    "outputId": "3353dc1b-c35a-44e1-ac2b-dab855f591df"
   },
   "outputs": [
    {
     "name": "stdout",
     "output_type": "stream",
     "text": [
      "The p-value is 0.43204138694325955\n"
     ]
    }
   ],
   "source": [
    "# We can use the ANOVA test here, f_oneway\n",
    "from scipy.stats import f_oneway \n",
    "test_stat, p_value = f_oneway(english_time, spanish_time, french_time)   \n",
    "print('The p-value is', p_value)"
   ]
  },
  {
   "cell_type": "code",
   "execution_count": null,
   "id": "5SvyxHBrMqdb",
   "metadata": {
    "colab": {
     "base_uri": "https://localhost:8080/"
    },
    "id": "5SvyxHBrMqdb",
    "outputId": "de6c12eb-97c3-452d-f3d5-6dec2f1ecb77"
   },
   "outputs": [
    {
     "name": "stdout",
     "output_type": "stream",
     "text": [
      "As the p-value 0.43204138694325955 is greater than the level of significance, we fail to reject the null hypothesis.\n"
     ]
    }
   ],
   "source": [
    "# Let's code a function to print a statement on our hypothesis depending on our p-value\n",
    "if p_value < 0.05:\n",
    "    print(f'As the p-value {p_value} is less than the level of significance, we reject the null hypothesis.')\n",
    "else:\n",
    "    print(f'As the p-value {p_value} is greater than the level of significance, we fail to reject the null hypothesis.')"
   ]
  },
  {
   "cell_type": "markdown",
   "id": "IdnPrb0UNOtj",
   "metadata": {
    "id": "IdnPrb0UNOtj"
   },
   "source": [
    "## Insights\n",
    "\n",
    "*    While a glance at the data may show the means are different, we cannot statiscally say they are.\n",
    "*    Our p-value is far higher than our alpha so we failed to reject our null hypothesis."
   ]
  },
  {
   "cell_type": "markdown",
   "id": "3acbc947",
   "metadata": {
    "id": "3acbc947"
   },
   "source": [
    "# Conclusion and Business Recommendations"
   ]
  },
  {
   "cell_type": "markdown",
   "id": "21fb1063",
   "metadata": {
    "id": "21fb1063"
   },
   "source": [
    "# Conclusions\n",
    "\n",
    "*    Our data concludes that users spend more time on the new landing page.\n",
    "*    Data also shows a trend that the longer a user spends time on the page, the more leikely they will become a converted user.\n",
    "*    Furthermore, the new landing page keeps users on it long and is statiscally more effective at converting users.\n",
    "*    Language preference is not a determining factor for conversion.\n",
    "*    Language preference does not impact the mean time spent on the new page."
   ]
  },
  {
   "cell_type": "markdown",
   "id": "uZdp2QoqOtig",
   "metadata": {
    "id": "uZdp2QoqOtig"
   },
   "source": [
    "# Recommendations\n",
    "*    The new page performs better at keeping users on the page as well as conversion. I recommend the company adopt the new page going forward.\n",
    "*    Language preference does not impact conversions or time on the page, I would recommend not changing anything in this regard.\n",
    "*    Given the success of the new landing page, I could also recommend sitewide changes to match the new landing page( ie., design, aesthetic, etc.)\n"
   ]
  },
  {
   "cell_type": "markdown",
   "id": "U0dAd4i0iCHo",
   "metadata": {
    "id": "U0dAd4i0iCHo"
   },
   "source": [
    "___"
   ]
  }
 ],
 "metadata": {
  "colab": {
   "collapsed_sections": [
    "d9affc84",
    "d49bfa2d",
    "8d585a90",
    "3acbc947"
   ],
   "provenance": []
  },
  "kernelspec": {
   "display_name": "Python 3 (ipykernel)",
   "language": "python",
   "name": "python3"
  },
  "language_info": {
   "codemirror_mode": {
    "name": "ipython",
    "version": 3
   },
   "file_extension": ".py",
   "mimetype": "text/x-python",
   "name": "python",
   "nbconvert_exporter": "python",
   "pygments_lexer": "ipython3",
   "version": "3.9.13"
  }
 },
 "nbformat": 4,
 "nbformat_minor": 5
}
